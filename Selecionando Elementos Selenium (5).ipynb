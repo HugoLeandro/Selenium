{
 "cells": [
  {
   "cell_type": "markdown",
   "id": "367cd714",
   "metadata": {},
   "source": [
    "### Documentação Selenium:\n",
    "\n",
    "- https://selenium-python.readthedocs.io/locating-elements.html"
   ]
  },
  {
   "cell_type": "code",
   "execution_count": 1,
   "id": "4e28f9f7",
   "metadata": {},
   "outputs": [],
   "source": [
    "from selenium import webdriver\n",
    "from selenium.webdriver.chrome.service import Service\n",
    "from webdriver_manager.chrome import ChromeDriverManager\n",
    "from selenium.webdriver.common.by import By\n",
    "\n",
    "servico = Service(ChromeDriverManager().install())\n",
    "navegador = webdriver.Chrome(service=servico)"
   ]
  },
  {
   "cell_type": "code",
   "execution_count": 2,
   "id": "59c8398d",
   "metadata": {},
   "outputs": [],
   "source": [
    "import os\n",
    "\n",
    "caminho = os.getcwd()\n",
    "arquivo = caminho + r\"\\Pagina Hashtag.html\"\n",
    "navegador.get(arquivo)"
   ]
  },
  {
   "cell_type": "markdown",
   "id": "7d964ce5",
   "metadata": {},
   "source": [
    "#### Selecionar vários elementos de uma vez\n",
    "\n",
    "- Vamos selecionar pelo find_elements\n",
    "- Vamos clicar no item Blog do menu"
   ]
  },
  {
   "cell_type": "code",
   "execution_count": 3,
   "id": "d99bbc29",
   "metadata": {},
   "outputs": [],
   "source": [
    "lista_elementos = navegador.find_elements(By.CLASS_NAME, 'nav-link')\n",
    "for elemento in lista_elementos:\n",
    "    if \"blog\" in elemento.text.lower():\n",
    "        elemento.click()\n",
    "        break"
   ]
  },
  {
   "cell_type": "code",
   "execution_count": 17,
   "id": "6d691135",
   "metadata": {},
   "outputs": [
    {
     "name": "stdout",
     "output_type": "stream",
     "text": [
      "https://www.hashtagtreinamentos.com/curso-de-excel-online\n",
      "https://www.hashtagtreinamentos.com/curso-power-bi\n",
      "https://www.hashtagtreinamentos.com/curso-python\n",
      "https://www.hashtagtreinamentos.com/curso-sql\n",
      "https://www.hashtagtreinamentos.com/curso-vba-excel\n"
     ]
    }
   ],
   "source": [
    "from selenium.webdriver.common.by import By\n",
    "#selecionando todos os links das imagens\n",
    "\n",
    "\n",
    "lista_elemento = navegador.find_elements(By.TAG_NAME, 'figure')\n",
    "for elemento in lista_elemento:\n",
    "    try:\n",
    "        link = elemento.find_element(By.TAG_NAME, 'a').get_attribute('href')\n",
    "        print(link)\n",
    "    except:\n",
    "        continue"
   ]
  },
  {
   "cell_type": "code",
   "execution_count": null,
   "id": "efc1a139",
   "metadata": {},
   "outputs": [],
   "source": []
  }
 ],
 "metadata": {
  "kernelspec": {
   "display_name": "Python 3 (ipykernel)",
   "language": "python",
   "name": "python3"
  },
  "language_info": {
   "codemirror_mode": {
    "name": "ipython",
    "version": 3
   },
   "file_extension": ".py",
   "mimetype": "text/x-python",
   "name": "python",
   "nbconvert_exporter": "python",
   "pygments_lexer": "ipython3",
   "version": "3.9.13"
  }
 },
 "nbformat": 4,
 "nbformat_minor": 5
}
