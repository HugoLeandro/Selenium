{
 "cells": [
  {
   "cell_type": "markdown",
   "id": "367cd714",
   "metadata": {
    "id": "367cd714"
   },
   "source": [
    "### Documentação Selenium:\n",
    "\n",
    "- https://selenium-python.readthedocs.io/locating-elements.html"
   ]
  },
  {
   "cell_type": "code",
   "execution_count": null,
   "id": "4e28f9f7",
   "metadata": {
    "id": "4e28f9f7",
    "outputId": "28fed806-b8cb-45fb-e4fd-3cf82b74ab1c"
   },
   "outputs": [
    {
     "name": "stderr",
     "output_type": "stream",
     "text": [
      "\n",
      "\n",
      "====== WebDriver manager ======\n",
      "Current google-chrome version is 99.0.4844\n",
      "Get LATEST chromedriver version for 99.0.4844 google-chrome\n",
      "Trying to download new driver from https://chromedriver.storage.googleapis.com/99.0.4844.51/chromedriver_win32.zip\n",
      "Driver has been saved in cache [C:\\Users\\joaol\\.wdm\\drivers\\chromedriver\\win32\\99.0.4844.51]\n"
     ]
    }
   ],
   "source": [
    "from selenium import webdriver\n",
    "from selenium.webdriver.chrome.service import Service\n",
    "from webdriver_manager.chrome import ChromeDriverManager\n",
    "from selenium.webdriver.common.by import By\n",
    "\n",
    "servico = Service(ChromeDriverManager().install())\n",
    "navegador = webdriver.Chrome(service=servico)"
   ]
  },
  {
   "cell_type": "code",
   "execution_count": null,
   "id": "59c8398d",
   "metadata": {
    "id": "59c8398d"
   },
   "outputs": [],
   "source": [
    "import os\n",
    "\n",
    "caminho = os.getcwd()\n",
    "arquivo = caminho + r\"\\formulario.html\"\n",
    "navegador.get(arquivo)"
   ]
  },
  {
   "cell_type": "markdown",
   "id": "7d964ce5",
   "metadata": {
    "id": "7d964ce5"
   },
   "source": [
    "#### Botão Padrão (clicar em botão)"
   ]
  },
  {
   "cell_type": "code",
   "execution_count": null,
   "id": "e5c8e21c",
   "metadata": {
    "id": "e5c8e21c"
   },
   "outputs": [],
   "source": [
    "navegador.find_element(By.XPATH, '/html/body/form/input[1]').click()\n",
    "alerta = navegador.switch_to.alert\n",
    "alerta.accept()"
   ]
  },
  {
   "cell_type": "markdown",
   "id": "1aeb33bf",
   "metadata": {
    "id": "1aeb33bf"
   },
   "source": [
    "#### Dica, esteja atento ao atributo \"value\" dos inputs, ele pode te ajudar\n",
    "\n",
    "- .text\n",
    "- .get_attribute(\"value\")\n",
    "- .is_selected"
   ]
  },
  {
   "cell_type": "markdown",
   "id": "1331d937",
   "metadata": {
    "id": "1331d937"
   },
   "source": [
    "#### Botão de Seleção estilo Checkbox (clicar no botão)"
   ]
  },
  {
   "cell_type": "code",
   "execution_count": null,
   "id": "f198b96a",
   "metadata": {
    "id": "f198b96a"
   },
   "outputs": [],
   "source": [
    "# clicar no botão\n",
    "navegador.find_element(By.XPATH, '/html/body/form/input[2]').click()"
   ]
  },
  {
   "cell_type": "code",
   "execution_count": null,
   "id": "945a973c",
   "metadata": {
    "id": "945a973c",
    "outputId": "31700b0e-2c9d-409b-a2c1-ffc586ee278e"
   },
   "outputs": [
    {
     "name": "stdout",
     "output_type": "stream",
     "text": [
      "True\n"
     ]
    }
   ],
   "source": [
    "# verificar o valor do botão\n",
    "valor = navegador.find_element(By.XPATH, '/html/body/form/input[2]').is_selected()\n",
    "print(valor)"
   ]
  },
  {
   "cell_type": "markdown",
   "id": "6bd35ffa",
   "metadata": {
    "id": "6bd35ffa"
   },
   "source": [
    "#### Botão de Seleção de Cores (enviar valor)"
   ]
  },
  {
   "cell_type": "code",
   "execution_count": null,
   "id": "1c1e2893",
   "metadata": {
    "id": "1c1e2893"
   },
   "outputs": [],
   "source": [
    "# preencher a cor\n",
    "navegador.find_element(By.XPATH, '/html/body/form/input[5]').send_keys('#2143E8')"
   ]
  },
  {
   "cell_type": "code",
   "execution_count": null,
   "id": "76a9b172",
   "metadata": {
    "id": "76a9b172",
    "outputId": "5d00b677-d4f1-4285-a86b-eeaa318b5313"
   },
   "outputs": [
    {
     "name": "stdout",
     "output_type": "stream",
     "text": [
      "#000000\n"
     ]
    }
   ],
   "source": [
    "# verificar qual a cor foi selecionada\n",
    "valor = navegador.find_element(By.XPATH, '/html/body/form/input[4]').get_attribute(\"value\")\n",
    "print(valor)"
   ]
  },
  {
   "cell_type": "markdown",
   "id": "d1492596",
   "metadata": {
    "id": "d1492596"
   },
   "source": [
    "#### Botão de Datas (enviar valor)"
   ]
  },
  {
   "cell_type": "code",
   "execution_count": null,
   "id": "7b3566a4",
   "metadata": {
    "id": "7b3566a4"
   },
   "outputs": [],
   "source": [
    "# preencher o valor\n",
    "navegador.find_element(By.XPATH, '/html/body/form/input[6]').send_keys('15/02/1994')"
   ]
  },
  {
   "cell_type": "code",
   "execution_count": null,
   "id": "0fef066d",
   "metadata": {
    "id": "0fef066d",
    "outputId": "65aad6aa-815e-49a7-9d5c-90c542fcdb2f"
   },
   "outputs": [
    {
     "name": "stdout",
     "output_type": "stream",
     "text": [
      "1994-02-15\n"
     ]
    }
   ],
   "source": [
    "# pegar o valor\n",
    "valor = navegador.find_element(By.XPATH, '/html/body/form/input[6]').get_attribute(\"value\")\n",
    "print(valor)"
   ]
  },
  {
   "cell_type": "markdown",
   "id": "b56c93ff",
   "metadata": {
    "id": "b56c93ff"
   },
   "source": [
    "#### Botão de Datas com Horas (enviar valor)"
   ]
  },
  {
   "cell_type": "code",
   "execution_count": null,
   "id": "eb4e4b0f",
   "metadata": {
    "id": "eb4e4b0f"
   },
   "outputs": [],
   "source": [
    "# preenchendo\n",
    "from selenium.webdriver.common.keys import Keys\n",
    "\n",
    "navegador.find_element(By.XPATH, '/html/body/form/input[7]').send_keys('15/02/1994', Keys.TAB, '22:00')"
   ]
  },
  {
   "cell_type": "code",
   "execution_count": null,
   "id": "7674a1e7",
   "metadata": {
    "id": "7674a1e7",
    "outputId": "f8b37a3c-173d-4f6b-e52e-3c212e6ea085"
   },
   "outputs": [
    {
     "name": "stdout",
     "output_type": "stream",
     "text": [
      "1994-02-15T22:00\n"
     ]
    }
   ],
   "source": [
    "# pegando o valor\n",
    "valor = navegador.find_element(By.XPATH, '/html/body/form/input[7]').get_attribute(\"value\")\n",
    "print(valor)"
   ]
  },
  {
   "cell_type": "markdown",
   "id": "2fcaf917",
   "metadata": {
    "id": "2fcaf917"
   },
   "source": [
    "#### Botão para selecionar o arquivo (enviar valor com caminho completo)"
   ]
  },
  {
   "cell_type": "code",
   "execution_count": null,
   "id": "cd9835fb",
   "metadata": {
    "id": "cd9835fb"
   },
   "outputs": [],
   "source": [
    "# preenchendo\n",
    "\n",
    "caminho = os.getcwd()\n",
    "arquivo = caminho + r\"\\formulario.html\"\n",
    "\n",
    "navegador.find_element(By.XPATH, '/html/body/form/input[8]').send_keys(arquivo)"
   ]
  },
  {
   "cell_type": "code",
   "execution_count": null,
   "id": "5f5c399a",
   "metadata": {
    "id": "5f5c399a",
    "outputId": "2cf87264-4683-4341-9f70-89a6228ea795"
   },
   "outputs": [
    {
     "name": "stdout",
     "output_type": "stream",
     "text": [
      "C:\\fakepath\\formulario.html\n"
     ]
    }
   ],
   "source": [
    "# pegar o valor\n",
    "valor = navegador.find_element(By.XPATH, '/html/body/form/input[8]').get_attribute(\"value\")\n",
    "print(valor)"
   ]
  },
  {
   "cell_type": "markdown",
   "id": "7964ee26",
   "metadata": {
    "id": "7964ee26"
   },
   "source": [
    "#### Botão para selecionar mês e ano (enviar valor)"
   ]
  },
  {
   "cell_type": "code",
   "execution_count": null,
   "id": "79237b1e",
   "metadata": {
    "id": "79237b1e",
    "outputId": "4ec179f6-578c-4433-8601-fc20bd9920f4"
   },
   "outputs": [
    {
     "name": "stdout",
     "output_type": "stream",
     "text": [
      "1980-01\n"
     ]
    }
   ],
   "source": [
    "# preenche\n",
    "navegador.find_element(By.XPATH, '/html/body/form/input[9]').send_keys('janeiro', Keys.TAB, '1980')\n",
    "# pegar o valor\n",
    "valor = navegador.find_element(By.XPATH, '/html/body/form/input[9]').get_attribute('value')\n",
    "print(valor)"
   ]
  },
  {
   "cell_type": "markdown",
   "id": "a0191d44",
   "metadata": {
    "id": "a0191d44"
   },
   "source": [
    "#### Campos Numéricos"
   ]
  },
  {
   "cell_type": "code",
   "execution_count": null,
   "id": "bc5286c4",
   "metadata": {
    "id": "bc5286c4"
   },
   "outputs": [],
   "source": [
    "navegador.find_element(By.XPATH, '/html/body/form/input[10]').clear()\n",
    "navegador.find_element(By.XPATH, '/html/body/form/input[10]').send_keys(\"123456\")"
   ]
  },
  {
   "cell_type": "markdown",
   "id": "2b794913",
   "metadata": {
    "id": "2b794913"
   },
   "source": [
    "#### Campos de Senha"
   ]
  },
  {
   "cell_type": "code",
   "execution_count": null,
   "id": "8f7687cb",
   "metadata": {
    "id": "8f7687cb",
    "outputId": "cf3d9372-a7b2-42c3-ccfd-80bf43c8cba4"
   },
   "outputs": [
    {
     "name": "stdout",
     "output_type": "stream",
     "text": [
      "123456\n"
     ]
    }
   ],
   "source": [
    "# preencher\n",
    "navegador.find_element(By.XPATH, '/html/body/form/input[11]').send_keys(\"123456\")\n",
    "# pego o valor\n",
    "valor = navegador.find_element(By.XPATH, '/html/body/form/input[11]').get_attribute('value')\n",
    "print(valor)"
   ]
  },
  {
   "cell_type": "markdown",
   "id": "ce8ecd00",
   "metadata": {
    "id": "ce8ecd00"
   },
   "source": [
    "#### RadioButtons (botões que só consegue marcar 1)"
   ]
  },
  {
   "cell_type": "code",
   "execution_count": null,
   "id": "5bf2274a",
   "metadata": {
    "id": "5bf2274a"
   },
   "outputs": [],
   "source": [
    "navegador.find_element(By.XPATH, '/html/body/form/input[14]').click()"
   ]
  },
  {
   "cell_type": "code",
   "execution_count": null,
   "id": "609711ff",
   "metadata": {
    "id": "609711ff",
    "outputId": "4e9be64a-bb31-4015-f865-2cd6e7ff0aa6"
   },
   "outputs": [
    {
     "name": "stdout",
     "output_type": "stream",
     "text": [
      "True\n"
     ]
    }
   ],
   "source": [
    "valor = navegador.find_element(By.XPATH, '/html/body/form/input[14]').is_selected()\n",
    "print(valor)"
   ]
  },
  {
   "cell_type": "markdown",
   "id": "cc904df6",
   "metadata": {
    "id": "cc904df6"
   },
   "source": [
    "#### Slider (enviar valor)"
   ]
  },
  {
   "cell_type": "code",
   "execution_count": null,
   "id": "89d89deb",
   "metadata": {
    "id": "89d89deb",
    "outputId": "e467b9c6-e25a-4dc8-c591-c86df87477ef"
   },
   "outputs": [
    {
     "name": "stdout",
     "output_type": "stream",
     "text": [
      "50\n"
     ]
    }
   ],
   "source": [
    "# pegar o valor\n",
    "valor = navegador.find_element(By.XPATH, '/html/body/form/input[15]').get_attribute('value')\n",
    "print(valor)"
   ]
  },
  {
   "cell_type": "code",
   "execution_count": null,
   "id": "8d6d6ec7",
   "metadata": {
    "id": "8d6d6ec7"
   },
   "outputs": [],
   "source": [
    "# preencher o valor\n",
    "elemento = navegador.find_element(By.XPATH, '/html/body/form/input[15]')\n",
    "\n",
    "elemento.clear()\n",
    "for i in range(50 - 30):\n",
    "    elemento.send_keys(Keys.ARROW_LEFT)"
   ]
  },
  {
   "cell_type": "markdown",
   "id": "f03e42d6",
   "metadata": {
    "id": "f03e42d6"
   },
   "source": [
    "#### Caixa de Texto"
   ]
  },
  {
   "cell_type": "code",
   "execution_count": null,
   "id": "cad4b566",
   "metadata": {
    "id": "cad4b566"
   },
   "outputs": [],
   "source": [
    "# preencher\n",
    "navegador.find_element(By.XPATH, '/html/body/form/input[16]').send_keys(\"Vasco\")"
   ]
  },
  {
   "cell_type": "code",
   "execution_count": null,
   "id": "4e3de6e1",
   "metadata": {
    "id": "4e3de6e1",
    "outputId": "addce480-9e94-49ed-c675-3fe0d5ab3512"
   },
   "outputs": [
    {
     "name": "stdout",
     "output_type": "stream",
     "text": [
      "Vasco\n"
     ]
    }
   ],
   "source": [
    "valor = navegador.find_element(By.XPATH, '/html/body/form/input[16]').get_attribute(\"value\")\n",
    "print(valor)"
   ]
  },
  {
   "cell_type": "markdown",
   "id": "01278cf4",
   "metadata": {
    "id": "01278cf4"
   },
   "source": [
    "#### Caixa de Horas"
   ]
  },
  {
   "cell_type": "code",
   "execution_count": null,
   "id": "c544b868",
   "metadata": {
    "id": "c544b868"
   },
   "outputs": [],
   "source": [
    "navegador.find_element(By.XPATH, '/html/body/form/input[17]').send_keys('15:15')"
   ]
  },
  {
   "cell_type": "markdown",
   "id": "df88623c",
   "metadata": {
    "id": "df88623c"
   },
   "source": [
    "#### Caixa de Data Personalizada (Semanal)"
   ]
  },
  {
   "cell_type": "code",
   "execution_count": null,
   "id": "356ccab3",
   "metadata": {
    "id": "356ccab3"
   },
   "outputs": [],
   "source": [
    "navegador.find_element(By.XPATH, '/html/body/form/input[18]').send_keys('17', '2005')"
   ]
  },
  {
   "cell_type": "markdown",
   "id": "1d279ff1",
   "metadata": {
    "id": "1d279ff1"
   },
   "source": [
    "#### Blocos de texto (enviar valor)"
   ]
  },
  {
   "cell_type": "code",
   "execution_count": null,
   "id": "4f8e85c5",
   "metadata": {
    "id": "4f8e85c5"
   },
   "outputs": [],
   "source": [
    "navegador.find_element(By.XPATH, '//*[@id=\"story\"]').clear()\n",
    "navegador.find_element(By.XPATH, '//*[@id=\"story\"]').send_keys(\"Olá\", Keys.ENTER, 'Meu nome é Lira', Keys.ENTER, 'Value, Tmj')"
   ]
  },
  {
   "cell_type": "markdown",
   "id": "8c24068f",
   "metadata": {
    "id": "8c24068f"
   },
   "source": [
    "#### Selecionando itens de uma lista"
   ]
  },
  {
   "cell_type": "code",
   "execution_count": null,
   "id": "10888231",
   "metadata": {
    "id": "10888231"
   },
   "outputs": [],
   "source": [
    "# preencher o valor\n",
    "navegador.find_element(By.XPATH, '/html/body/form/select[1]').send_keys('B')"
   ]
  },
  {
   "cell_type": "code",
   "execution_count": null,
   "id": "c39e1b2d",
   "metadata": {
    "id": "c39e1b2d",
    "outputId": "e0074303-2c99-43f3-c3b2-4e800028b02a"
   },
   "outputs": [
    {
     "name": "stdout",
     "output_type": "stream",
     "text": [
      "b\n"
     ]
    }
   ],
   "source": [
    "# pegando o valor\n",
    "valor = navegador.find_element(By.XPATH, '/html/body/form/select[1]').get_attribute('value')\n",
    "print(valor)"
   ]
  },
  {
   "cell_type": "code",
   "execution_count": null,
   "id": "d82c9019",
   "metadata": {
    "id": "d82c9019"
   },
   "outputs": [],
   "source": [
    "# clicando para selecionar\n",
    "import time\n",
    "navegador.find_element(By.XPATH, '/html/body/form/select[1]').click()\n",
    "time.sleep(0.5)\n",
    "navegador.find_element(By.XPATH, '/html/body/form/select[1]/option[3]').click()"
   ]
  },
  {
   "cell_type": "code",
   "execution_count": null,
   "id": "d7e78ac8",
   "metadata": {
    "id": "d7e78ac8"
   },
   "outputs": [],
   "source": [
    "# com o select\n",
    "# próxima aula\n",
    "# https://www.selenium.dev/pt-br/documentation/webdriver/elements/select_lists/\n",
    "\n",
    "from selenium.webdriver.support.select import Select\n",
    "\n",
    "elemento = navegador.find_element(By.TAG_NAME, 'select')\n",
    "elemento_select = Select(elemento)"
   ]
  },
  {
   "cell_type": "code",
   "execution_count": null,
   "id": "f3ff2b1e",
   "metadata": {
    "id": "f3ff2b1e"
   },
   "outputs": [],
   "source": [
    "elemento_select.select_by_visible_text('C')"
   ]
  },
  {
   "cell_type": "code",
   "execution_count": null,
   "id": "57717b72",
   "metadata": {
    "id": "57717b72",
    "outputId": "98d3a583-91d2-4a39-c2e1-41b9633d7f51"
   },
   "outputs": [
    {
     "name": "stdout",
     "output_type": "stream",
     "text": [
      "[<selenium.webdriver.remote.webelement.WebElement (session=\"6c558e556921e135c0548455ed72e91d\", element=\"e7fd38b5-e430-4bca-9935-943cde605748\")>]\n",
      "b\n"
     ]
    }
   ],
   "source": [
    "# ler o item selecionado\n",
    "lista_itens = elemento_select.all_selected_options\n",
    "print(lista_itens)\n",
    "# find_element = elemento\n",
    "# find_elements = [elemento1, elemento2, elemento3]\n",
    "\n",
    "print(lista_itens[0].get_attribute(\"value\"))"
   ]
  },
  {
   "cell_type": "code",
   "execution_count": null,
   "id": "004ae16b",
   "metadata": {
    "id": "004ae16b"
   },
   "outputs": [],
   "source": []
  }
 ],
 "metadata": {
  "colab": {
   "name": "Preenchendo Formularios-checkpoint.ipynb",
   "provenance": []
  },
  "kernelspec": {
   "display_name": "Python 3 (ipykernel)",
   "language": "python",
   "name": "python3"
  },
  "language_info": {
   "codemirror_mode": {
    "name": "ipython",
    "version": 3
   },
   "file_extension": ".py",
   "mimetype": "text/x-python",
   "name": "python",
   "nbconvert_exporter": "python",
   "pygments_lexer": "ipython3",
   "version": "3.9.13"
  }
 },
 "nbformat": 4,
 "nbformat_minor": 5
}
