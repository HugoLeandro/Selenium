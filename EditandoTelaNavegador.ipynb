{
 "cells": [
  {
   "cell_type": "markdown",
   "id": "a1889316",
   "metadata": {},
   "source": [
    "### Abrindo o navegador"
   ]
  },
  {
   "cell_type": "code",
   "execution_count": 1,
   "id": "d71d9e84",
   "metadata": {},
   "outputs": [],
   "source": [
    "from selenium import webdriver\n",
    "from selenium.webdriver.chrome.service import Service\n",
    "from webdriver_manager.chrome import ChromeDriverManager\n",
    "from selenium.webdriver.common.by import By\n",
    "\n",
    "servico = Service(ChromeDriverManager().install())\n",
    "navegador = webdriver.Chrome(service=servico)"
   ]
  },
  {
   "cell_type": "code",
   "execution_count": 2,
   "id": "5ac54c18",
   "metadata": {},
   "outputs": [],
   "source": [
    "import os\n",
    "\n",
    "caminho = os.getcwd()\n",
    "arquivo = caminho + r\"\\Pagina Hashtag.html\"\n",
    "navegador.get(arquivo)"
   ]
  },
  {
   "cell_type": "markdown",
   "id": "90af7d50",
   "metadata": {},
   "source": [
    "### Editando a tela do navegador"
   ]
  },
  {
   "cell_type": "markdown",
   "id": "2831f33f",
   "metadata": {},
   "source": [
    "#### maximizar"
   ]
  },
  {
   "cell_type": "code",
   "execution_count": 3,
   "id": "27a85fd5",
   "metadata": {},
   "outputs": [],
   "source": [
    "navegador.maximize_window()"
   ]
  },
  {
   "cell_type": "markdown",
   "id": "ee490159",
   "metadata": {},
   "source": [
    "#### minimizar"
   ]
  },
  {
   "cell_type": "code",
   "execution_count": 4,
   "id": "64329551",
   "metadata": {},
   "outputs": [],
   "source": [
    "navegador.minimize_window()"
   ]
  },
  {
   "cell_type": "markdown",
   "id": "ede0e3ca",
   "metadata": {},
   "source": [
    "#### headless\n",
    "\n",
    "Atenção que nem sempre funciona igual"
   ]
  },
  {
   "cell_type": "code",
   "execution_count": 5,
   "id": "c4020478",
   "metadata": {},
   "outputs": [
    {
     "name": "stdout",
     "output_type": "stream",
     "text": [
      "Facebook – entre ou cadastre-se\n"
     ]
    }
   ],
   "source": [
    "options = webdriver.ChromeOptions()\n",
    "options.add_argument('--headless')\n",
    "novo_nav = webdriver.Chrome(service=servico, options=options)\n",
    "novo_nav.get(\"https://facebook.com\")\n",
    "print(novo_nav.title)"
   ]
  },
  {
   "cell_type": "code",
   "execution_count": null,
   "id": "64378c45",
   "metadata": {},
   "outputs": [],
   "source": []
  }
 ],
 "metadata": {
  "kernelspec": {
   "display_name": "Python 3 (ipykernel)",
   "language": "python",
   "name": "python3"
  },
  "language_info": {
   "codemirror_mode": {
    "name": "ipython",
    "version": 3
   },
   "file_extension": ".py",
   "mimetype": "text/x-python",
   "name": "python",
   "nbconvert_exporter": "python",
   "pygments_lexer": "ipython3",
   "version": "3.9.13"
  }
 },
 "nbformat": 4,
 "nbformat_minor": 5
}
